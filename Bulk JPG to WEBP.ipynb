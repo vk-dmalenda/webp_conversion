{
 "cells": [
  {
   "cell_type": "code",
   "execution_count": null,
   "metadata": {},
   "outputs": [],
   "source": [
    "# from PIL import features\n",
    "\n",
    "# if features.check(\"webp\"):\n",
    "#     print(\"WEBP support is enabled!\")\n",
    "# else:\n",
    "#     print(\"WEBP support is not enabled.\")"
   ]
  },
  {
   "cell_type": "code",
   "execution_count": null,
   "metadata": {},
   "outputs": [],
   "source": [
    "import os\n",
    "from PIL import Image\n",
    "\n",
    "def find_jpg_files_with_72dpi(directory):\n",
    "    matching_files = []\n",
    "    for root, dirs, files in os.walk(directory):\n",
    "        for file in files:\n",
    "            if file.endswith(\".jpg\") and \"72dpi\" in file:\n",
    "                matching_files.append(os.path.join(root, file))\n",
    "    return matching_files\n",
    "\n",
    "def convert_jpg_to_webp(jpg_file, input_dir, output_dir):\n",
    "    with Image.open(jpg_file) as img:\n",
    "        # Get the relative path of the file by stripping the input directory\n",
    "        relative_path = os.path.relpath(jpg_file, input_dir)\n",
    "        \n",
    "        # Split the path into its components\n",
    "        path_parts = relative_path.split(os.sep)\n",
    "        \n",
    "        # Remove the second-to-last component if there are more than one component in the path\n",
    "        if len(path_parts) > 2:  \n",
    "            path_parts.pop(-2)\n",
    "        \n",
    "        \n",
    "        relative_path = os.path.join(*path_parts)\n",
    "        relative_path = os.path.splitext(relative_path)[0] + '.webp'\n",
    "        \n",
    "        \n",
    "        webp_file_path = os.path.join(output_dir, relative_path)\n",
    "        \n",
    "        # Ensure out dir is there\n",
    "        os.makedirs(os.path.dirname(webp_file_path), exist_ok=True)\n",
    "        \n",
    "        \n",
    "        img.save(webp_file_path, \"WEBP\")\n",
    "        \n",
    "        return webp_file_path\n",
    "\n",
    "# Specify starting directory and output directory\n",
    "directory_to_search = 'E:\\Seafoot Games Battle Maps\\The Biggest Battlemap Bundle Ever'\n",
    "output_directory = 'E:\\Seafoot Games Battle Maps\\WEBP'\n",
    "\n",
    "# Ensure output directory exists\n",
    "os.makedirs(output_directory, exist_ok=True)\n",
    "\n",
    "# Run the function and capture the results\n",
    "jpg_files = find_jpg_files_with_72dpi(directory_to_search)\n",
    "\n",
    "# Convert each file \n",
    "converted_files = []\n",
    "for jpg_file in jpg_files:\n",
    "    webp_file = convert_jpg_to_webp(jpg_file, directory_to_search, output_directory)\n",
    "    converted_files.append(webp_file)\n",
    "    print(f\"Converted: {jpg_file} -> {webp_file}\")\n",
    "\n",
    "\n",
    "print(f\"\\nTotal number of files converted: {len(converted_files)}\")"
   ]
  }
 ],
 "metadata": {
  "kernelspec": {
   "display_name": "Python 3",
   "language": "python",
   "name": "python3"
  },
  "language_info": {
   "codemirror_mode": {
    "name": "ipython",
    "version": 3
   },
   "file_extension": ".py",
   "mimetype": "text/x-python",
   "name": "python",
   "nbconvert_exporter": "python",
   "pygments_lexer": "ipython3",
   "version": "3.8.5"
  }
 },
 "nbformat": 4,
 "nbformat_minor": 4
}
